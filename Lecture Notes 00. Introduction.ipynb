{
 "cells": [
  {
   "cell_type": "markdown",
   "metadata": {},
   "source": [
    "# Lecture Notes\n",
    "  \n",
    "这是CMU的深度学习课程的课程笔记，用来记录学习过程中的感悟以及对理论、公式的理解和推导"
   ]
  },
  {
   "cell_type": "markdown",
   "metadata": {},
   "source": [
    "## 00.  Perception\n",
    "  \n",
    ">\"Perception, then, emerges as that relatively primitive, partly\n",
    "autonomous, institutionalized, ratiomorphic subsystem of cognition which\n",
    "achieves prompt and richly detailed orientation habitually concerning the\n",
    "vitally relevant, mostly distal aspects of the environment on the basis of\n",
    "mutually vicarious, relatively restricted and stereotyped, insufficient\n",
    "evidence in uncertainty-geared interaction and compromise, seemingly\n",
    "following the highest probability for smallness of error at the expense of\n",
    "the highest frequency of precision. \"  \n",
    "  \n",
    "<div align=\"right\">– From \"Perception and the Representative Design of Psychological\n",
    "Experiments, \" by Egon Brunswik, 1956 (posthumous).</div>"
   ]
  },
  {
   "cell_type": "markdown",
   "metadata": {},
   "source": [
    ">\"That's a simplification. Perception is standing on the sidewalk, watching\n",
    "all the girls go by.\"  \n",
    "  \n",
    "<div align=\"right\">– From \"The New Yorker\", December 19, 1959</div>"
   ]
  },
  {
   "cell_type": "markdown",
   "metadata": {},
   "source": [
    "这里面提到几个理论我觉得很有意思，而且很多发现是在很早就被预见，这点也非常赞，做了下总结。  \n",
    "  \n",
    "1. Association  \n",
    "这个观点呢是人们通过“联系”来理解事物的。比如说闪电来了那么马上就要有雷声了，这个就是很简单的联系。与”联系“有关的理论被称为Associationism \n",
    "2. Connection \n",
    "这个观点是因为之前的“联系”观点的兴起而产生的。人们在认识到两件事情的联系之后，会有这样的疑问：“联系”的信息存储在哪里呢？有一种存在于“连接”的观点就产生了。　　\n",
    "3. Alexander Bain  \n"
   ]
  },
  {
   "cell_type": "code",
   "execution_count": null,
   "metadata": {},
   "outputs": [],
   "source": []
  }
 ],
 "metadata": {
  "kernelspec": {
   "display_name": "Python 3",
   "language": "python",
   "name": "python3"
  },
  "language_info": {
   "codemirror_mode": {
    "name": "ipython",
    "version": 3
   },
   "file_extension": ".py",
   "mimetype": "text/x-python",
   "name": "python",
   "nbconvert_exporter": "python",
   "pygments_lexer": "ipython3",
   "version": "3.6.5"
  }
 },
 "nbformat": 4,
 "nbformat_minor": 2
}
